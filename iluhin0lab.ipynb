{
 "cells": [
  {
   "cell_type": "markdown",
   "id": "bc1168ef",
   "metadata": {},
   "source": [
    "# 1. Завдання:\n",
    "# Примітка:\n",
    "Щоб вибрати номер варіанта, запустіть оператор N = ord('X') % 10 + 1, де X – перша велика літера вашого імені в латинській транскрипції."
   ]
  },
  {
   "cell_type": "code",
   "execution_count": 4,
   "id": "080f24a9",
   "metadata": {},
   "outputs": [
    {
     "name": "stdout",
     "output_type": "stream",
     "text": [
      "5\n"
     ]
    }
   ],
   "source": [
    "N = ord('T') % 10 + 1\n",
    "print(N)"
   ]
  },
  {
   "cell_type": "markdown",
   "id": "42c78e8b",
   "metadata": {},
   "source": [
    "# Таблиця 1. Завдання до виконання роботи"
   ]
  },
  {
   "cell_type": "markdown",
   "id": "fd36cb2f-fdb1-4466-916a-c2d27eca71b9",
   "metadata": {},
   "source": [
    "![Завдання](foto.jpg)\n",
    "\n",
    "\n"
   ]
  },
  {
   "cell_type": "code",
   "execution_count": 12,
   "id": "bdac3620",
   "metadata": {},
   "outputs": [
    {
     "name": "stdin",
     "output_type": "stream",
     "text": [
      "Введите значение k:  11\n"
     ]
    },
    {
     "name": "stdout",
     "output_type": "stream",
     "text": [
      "11-е простое число - это 31\n"
     ]
    }
   ],
   "source": [
    "def is_prime(n):\n",
    "    \"\"\"Проверяет, является ли число простым.\"\"\"\n",
    "    if n < 2:\n",
    "        return False\n",
    "    for i in range(2, int(n**0.5) + 1):\n",
    "        if n % i == 0:\n",
    "            return False\n",
    "    return True\n",
    "\n",
    "def find_kth_prime(k):\n",
    "    \"\"\"Возвращает k-е простое число.\"\"\"\n",
    "    prime_count = 0\n",
    "    num = 1\n",
    "    while prime_count < k:\n",
    "        num += 1\n",
    "        if is_prime(num):\n",
    "            prime_count += 1\n",
    "    return num\n",
    "\n",
    "def task_5():\n",
    "    \"\"\"Запрашивает у пользователя k и выводит k-е простое число.\"\"\"\n",
    "    try:\n",
    "        k = int(input(\"Введите значение k: \"))\n",
    "        if k <= 0:\n",
    "            print(\"k должно быть положительным числом.\")\n",
    "            return\n",
    "        result = find_kth_prime(k)\n",
    "        print(f\"{k}-е простое число - это {result}\")\n",
    "    except ValueError:\n",
    "        print(\"Введите корректное целое число.\")\n",
    "\n",
    "# Тестирование функции\n",
    "task_5()\n"
   ]
  },
  {
   "cell_type": "code",
   "execution_count": 13,
   "id": "f07b3d8c",
   "metadata": {},
   "outputs": [
    {
     "name": "stdin",
     "output_type": "stream",
     "text": [
      "Введите значение k:  5\n"
     ]
    },
    {
     "name": "stdout",
     "output_type": "stream",
     "text": [
      "5-е простое число - это 11\n"
     ]
    }
   ],
   "source": [
    "task_5()"
   ]
  },
  {
   "cell_type": "markdown",
   "id": "a0d9f39d-39a9-4341-9195-74aadff7cffd",
   "metadata": {},
   "source": [
    "# **Гана** 🇬🇭\n",
    "\n",
    "## Загальна інформація\n",
    "\n",
    "<p style=\"border: 2px solid black; padding: 10px;\">\n",
    "<strong>Площа:</strong> 238,533 км² <br>\n",
    "<strong>Населення:</strong> 32 мільйони (2023 рік) <br>\n",
    "<strong>Державний устрій:</strong> Унітарна республіка\n",
    "</p>\n",
    "\n",
    "## Видатні персоналії\n",
    "\n",
    "- **Кваме Нкрума** – перший президент Гани, лідер боротьби за незалежність.\n",
    "- **Кофи Аннан** – колишній Генеральний секретар ООН, лауреат Нобелівської премії миру.\n",
    "\n",
    "## Пам'ятки культури та природи\n",
    "\n",
    "### Пам'ятки культури\n",
    "<ol>\n",
    "  <li><strong>Замок Кейп-Кост</strong> – історична фортеця, внесена до списку ЮНЕСКО.</li>\n",
    "  <li><strong>Національний музей Гани</strong> – великий музей, присвячений культурі та історії країни.</li>\n",
    "</ol>\n",
    "\n",
    "### Пам'ятки природи\n",
    "<ul>\n",
    "  <li><strong>Національний парк Какум</strong>  \n",
    "    <ul>\n",
    "      <li>Відомий своїми підвісними мостами серед джунглів.</li>\n",
    "    </ul>\n",
    "  </li>\n",
    "  <li><strong>Озеро Вольта</strong> – найбільше штучне озеро у світі.</li>\n",
    "</ul>\n",
    "\n",
    "## Таблиця основних фактів\n",
    "\n",
    "<table>\n",
    "  <tr>\n",
    "    <th>Показник</th>\n",
    "    <th>Значення</th>\n",
    "  </tr>\n",
    "  <tr>\n",
    "    <td><strong>Офіційна мова</strong></td>\n",
    "    <td>Англійська</td>\n",
    "  </tr>\n",
    "  <tr>\n",
    "    <td><strong>Столиця</strong></td>\n",
    "    <td>Аккра</td>\n",
    "  </tr>\n",
    "  <tr>\n",
    "    <td><strong>Валюта</strong></td>\n",
    "    <td>Ганський седі (GHS)</td>\n",
    "  </tr>\n",
    "  <tr>\n",
    "    <td><strong>Клімат</strong></td>\n",
    "    <td>Екваторіальний</td>\n",
    "  </tr>\n",
    "</table>\n",
    "\n",
    "## Культура та традиції\n",
    "\n",
    "<p style=\"color: green;\"><strong>Музика та танці:</strong> Гана славиться своєю традиційною музикою, наприклад, стилем хайлайф, та танцями, які є важливою частиною культури. </p>\n",
    "\n",
    "### Фестивалі\n",
    "<ul>\n",
    "  <li><strong>Фестиваль Panafest</strong> – культурний фестиваль, присвячений африканській діаспорі.</li>\n",
    "  <li><strong>Гомова</strong> – традиційне свято народу га, що символізує закінчення голоду.</li>\n",
    "</ul>\n",
    "\n",
    "## Картинки\n",
    "\n",
    "<img src=\"https://upload.wikimedia.org/wikipedia/commons/1/19/Flag_of_Ghana.svg\" alt=\"Флаг Гани\" style=\"width: 300px;\">\n",
    "\n",
    "## Гіперпосилання\n",
    "<ul>\n",
    "  <li>Офіційний сайт <a href=\"http://www.ghana.gov.gh\" target=\"_blank\">Уряду Гани</a></li>\n",
    "  <li>Стаття про Гану на <a href=\"https://uk.wikipedia.org/wiki/Гана\" target=\"_blank\">Вікіпедії</a></li>\n",
    "</ul>\n",
    "\n"
   ]
  },
  {
   "cell_type": "code",
   "execution_count": null,
   "id": "733ca8c0",
   "metadata": {},
   "outputs": [],
   "source": []
  }
 ],
 "metadata": {
  "kernelspec": {
   "display_name": "Python 3 (ipykernel)",
   "language": "python",
   "name": "python3"
  },
  "language_info": {
   "codemirror_mode": {
    "name": "ipython",
    "version": 3
   },
   "file_extension": ".py",
   "mimetype": "text/x-python",
   "name": "python",
   "nbconvert_exporter": "python",
   "pygments_lexer": "ipython3",
   "version": "3.13.1"
  }
 },
 "nbformat": 4,
 "nbformat_minor": 5
}
